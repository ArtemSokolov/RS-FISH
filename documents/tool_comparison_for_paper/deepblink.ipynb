{
 "cells": [
  {
   "cell_type": "markdown",
   "metadata": {},
   "source": [
    "DeepBlink is a 2D CNN to detect spots:  \n",
    "\n",
    "the network only works on 2d images but they support 3d by offering a non maximal suppression:  \n",
    "https://github.com/BBQuercus/deepBlink/blob/master/examples/3d_prediction.ipynb  \n",
    "(used below)"
   ]
  },
  {
   "cell_type": "markdown",
   "metadata": {},
   "source": [
    "#### Installation\n",
    "\n",
    "```\n",
    "conda create -n deepblink python=3.7  \n",
    "conda activate deepblink\n",
    "\n",
    "## if GPUs are available install cuda and tf2_gpu according to the nvidia drive\n",
    "\n",
    "conda install -c bbquercus deepblink\n",
    "\n",
    "```"
   ]
  },
  {
   "cell_type": "code",
   "execution_count": null,
   "metadata": {},
   "outputs": [],
   "source": [
    "import tensorflow as tf\n",
    "print(tf.__version__)"
   ]
  },
  {
   "cell_type": "code",
   "execution_count": null,
   "metadata": {},
   "outputs": [],
   "source": [
    "print(\"Num GPUs Available: \", len(tf.config.list_physical_devices('GPU')))"
   ]
  },
  {
   "cell_type": "code",
   "execution_count": null,
   "metadata": {},
   "outputs": [],
   "source": [
    "tf.config.experimental.list_physical_devices()"
   ]
  },
  {
   "cell_type": "code",
   "execution_count": null,
   "metadata": {},
   "outputs": [],
   "source": [
    "is_gpu = len(tf.config.experimental.list_physical_devices('GPU')) > 0\n",
    "is_gpu"
   ]
  },
  {
   "cell_type": "code",
   "execution_count": null,
   "metadata": {},
   "outputs": [],
   "source": [
    "from glob import glob\n",
    "import os\n",
    "import pandas as pd\n",
    "import tifffile as tif\n",
    "import numpy as np\n",
    "import time\n",
    "\n",
    "import deepblink as pink\n",
    "from skimage import io\n",
    "import trackpy as tp\n",
    "import subprocess"
   ]
  },
  {
   "cell_type": "code",
   "execution_count": null,
   "metadata": {},
   "outputs": [],
   "source": [
    "## analysis type: '' (for the original analysis) OR 'adj_spots'\n",
    "analysis = '_adj_spots'"
   ]
  },
  {
   "cell_type": "code",
   "execution_count": null,
   "metadata": {},
   "outputs": [],
   "source": [
    "path = '/YOUR/PATH/'\n",
    "org_ims_dir = os.path.join(path,f'simulations{analysis}')\n",
    "db_dir = os.path.join(path, 'deepblink')\n",
    "os.makedirs(db_dir, exist_ok=True)"
   ]
  },
  {
   "cell_type": "code",
   "execution_count": null,
   "metadata": {},
   "outputs": [],
   "source": [
    "results_path_simul = os.path.join(\n",
    "    db_dir, f'results{analysis}')\n",
    "os.makedirs(results_path_simul, exist_ok=True)"
   ]
  },
  {
   "cell_type": "markdown",
   "metadata": {},
   "source": [
    "### Load pretrained model\n",
    "We trained our own network, but results were not as good on the simulated data.  \n",
    "We also tested the pretrained network \"smfish.n5\", but its not as good."
   ]
  },
  {
   "cell_type": "code",
   "execution_count": null,
   "metadata": {},
   "outputs": [],
   "source": [
    "!deepblink download -i Particle"
   ]
  },
  {
   "cell_type": "code",
   "execution_count": null,
   "metadata": {},
   "outputs": [],
   "source": [
    "model = pink.io.load_model(\"particle.h5\")"
   ]
  },
  {
   "cell_type": "markdown",
   "metadata": {},
   "source": [
    "### Load Images"
   ]
  },
  {
   "cell_type": "code",
   "execution_count": null,
   "metadata": {},
   "outputs": [],
   "source": [
    "org_ims_paths = glob(os.path.join(org_ims_dir,'*','*.tif'))\n",
    "len(org_ims_paths)"
   ]
  },
  {
   "cell_type": "code",
   "execution_count": null,
   "metadata": {},
   "outputs": [],
   "source": [
    "# Those images are used for accuracy analysis\n",
    "org_simul_ims_paths = [p for p in org_ims_paths \n",
    "                       if \"embryos_FISH\" not in p\n",
    "                      and \"000spots\" not in p\n",
    "                      and os.path.exists(f'{p[:-4]}.loc')]\n",
    "\n",
    "len(org_simul_ims_paths)"
   ]
  },
  {
   "cell_type": "code",
   "execution_count": null,
   "metadata": {},
   "outputs": [],
   "source": [
    "all_csvs = [f'{f[:-4]}.loc' for f in org_simul_ims_paths]"
   ]
  },
  {
   "cell_type": "code",
   "execution_count": null,
   "metadata": {},
   "outputs": [],
   "source": [
    "# # save a list of corresponding filename and file number in the list. will be used for all analysis\n",
    "\n",
    "# ## get imidiate dir and file name:\n",
    "# all_tifs = [\"/\".join(f.split('/')[-2:]) for f in all_tifs]\n",
    "# df_name_nums = pd.DataFrame({'name':all_tifs}) #'num': range(len(all_tifs)) ,\n",
    "# df_name_nums.to_csv('ims_and_corresponding_num.csv')"
   ]
  },
  {
   "cell_type": "markdown",
   "metadata": {},
   "source": [
    "## Predict "
   ]
  },
  {
   "cell_type": "markdown",
   "metadata": {},
   "source": [
    "#### In 2D"
   ]
  },
  {
   "cell_type": "code",
   "execution_count": null,
   "metadata": {},
   "outputs": [],
   "source": [
    "## Grid search on this variable:\n",
    "radius_refinement = [2,3,4]"
   ]
  },
  {
   "cell_type": "code",
   "execution_count": null,
   "metadata": {},
   "outputs": [],
   "source": [
    "results_path_simul_2d = os.path.join(results_path_simul, '2D')\n",
    "os.makedirs(results_path_simul_2d, exist_ok=True)"
   ]
  },
  {
   "cell_type": "code",
   "execution_count": null,
   "metadata": {},
   "outputs": [],
   "source": [
    "times = [[] for i in range(len(radius_refinement))]\n",
    "\n",
    "for i,im_path in enumerate(org_simul_ims_paths):\n",
    "\n",
    "    im_dir = os.path.basename(os.path.dirname(im_path))\n",
    "    im_name = os.path.basename(im_path[:-4])\n",
    "\n",
    "    im_3d = tif.imread(im_path)\n",
    "\n",
    "    for j,r in enumerate(radius_refinement):\n",
    "\n",
    "        pad_width = r\n",
    "        \n",
    "        df = pd.DataFrame()\n",
    "    \n",
    "        time_im = 0\n",
    "\n",
    "        for slice, image_curr in enumerate(im_3d):\n",
    "\n",
    "            beg_time = time.time()\n",
    "\n",
    "            # deepBlink prediction\n",
    "            yx = pink.inference.predict(image=image_curr, model=model)\n",
    "            y, x = yx.T.copy()\n",
    "\n",
    "            time_im += (time.time() - beg_time)\n",
    "\n",
    "            # pad to avoid error for spot close to the edges\n",
    "            yx = yx + pad_width\n",
    "            image_curr = np.pad(\n",
    "                image_curr, pad_width=pad_width, mode='constant', constant_values = 0\n",
    "            )\n",
    "\n",
    "            # Refinement with trackpy\n",
    "            df_curr = tp.refine_com(\n",
    "                raw_image=image_curr, image=image_curr, radius=r, coords=yx\n",
    "            )\n",
    "            df_curr[\"x\"] = x\n",
    "            df_curr[\"y\"] = y\n",
    "            df_curr[\"z\"] = slice\n",
    "            df = df.append(df_curr, ignore_index=True)\n",
    "\n",
    "        times[j].append(time_im)\n",
    "\n",
    "        df.to_csv(os.path.join(results_path_simul_2d ,f'radius{r}__{im_dir}__{im_name}.csv'), index=False)\n"
   ]
  },
  {
   "cell_type": "code",
   "execution_count": null,
   "metadata": {},
   "outputs": [],
   "source": [
    "# Times:\n",
    "for i,r in enumerate(radius_refinement):\n",
    "    pd.DataFrame({\"file\":org_simul_ims_paths, \"times\":times[i]}\n",
    "                ).to_csv(os.path.join(results_path_simul_2d ,f'radius{r}_times.csv'))"
   ]
  },
  {
   "cell_type": "markdown",
   "metadata": {},
   "source": [
    "## Unite spots (2D to 3D)"
   ]
  },
  {
   "cell_type": "code",
   "execution_count": null,
   "metadata": {},
   "outputs": [],
   "source": [
    "## grid search search_range)\n",
    "search_range = [1,2,3]\n",
    "gap_frames = 0\n",
    "min_frames = 2"
   ]
  },
  {
   "cell_type": "code",
   "execution_count": null,
   "metadata": {},
   "outputs": [],
   "source": [
    "times = [[[] for j in range(len(search_range))] for i in range(len(radius_refinement))] \n",
    "\n",
    "for i,im_path in enumerate(org_simul_ims_paths):\n",
    "    \n",
    "    im_dir = os.path.basename(os.path.dirname(im_path))\n",
    "    im_name = os.path.basename(im_path[:-4])\n",
    "    \n",
    "    for j,r in enumerate(radius_refinement):\n",
    "\n",
    "        df = pd.read_csv(os.path.join(results_path_simul_2d, f'radius{r}__{im_dir}__{im_name}.csv'))\n",
    "        \n",
    "        if not df.empty:\n",
    "\n",
    "            for k,s in enumerate(search_range):\n",
    "            \n",
    "                beg_time = time.time()\n",
    "\n",
    "                track = tp.link(df.rename({\"z\": \"frame\"}, axis=1), \n",
    "                             search_range=s, memory=gap_frames)\n",
    "                track = tp.filter_stubs(track, threshold=min_frames\n",
    "                                    ).rename({\"frame\": \"z\"}, axis=1)\n",
    "\n",
    "                # Index of brightest particles\n",
    "                idx = track.groupby([\"particle\"])[\"mass\"].transform(max) ==track[\"mass\"]\n",
    "                df_nms = track[idx]\n",
    "\n",
    "                # Remove tracks from all spots\n",
    "                df_without_track = df[\n",
    "                    ~df.set_index([\"x\", \"y\", \"z\", \"mass\"]).index.isin(\n",
    "                        track.set_index([\"x\", \"y\", \"z\", \"mass\"]).index)]\n",
    "\n",
    "                # Add back nms (brightest spots)\n",
    "                df_clean = pd.concat([df_nms, df_without_track]).reset_index(drop=True)\n",
    "                df_clean.to_csv(os.path.join(results_path_simul ,f'radius{r}__search{s}__{im_dir}__{im_name}.csv'), index=False)\n",
    "\n",
    "                times[j][k].append(time.time()-beg_time)\n",
    "\n",
    "        else:\n",
    "            times[j][k].append(np.nan)"
   ]
  },
  {
   "cell_type": "code",
   "execution_count": null,
   "metadata": {},
   "outputs": [],
   "source": [
    "# Times:\n",
    "for i,r in enumerate(radius_refinement):\n",
    "    for j,s in enumerate(search_range):\n",
    "        pd.DataFrame({\"file\":org_simul_ims_paths, \"times\":times[i][j]}).to_csv(os.path.join(results_path_simul ,f'radius{r}search{s}_3dunite_times.csv'))"
   ]
  },
  {
   "cell_type": "code",
   "execution_count": null,
   "metadata": {},
   "outputs": [],
   "source": []
  }
 ],
 "metadata": {
  "kernelspec": {
   "display_name": "Python 3 (ipykernel)",
   "language": "python",
   "name": "python3"
  },
  "language_info": {
   "codemirror_mode": {
    "name": "ipython",
    "version": 3
   },
   "file_extension": ".py",
   "mimetype": "text/x-python",
   "name": "python",
   "nbconvert_exporter": "python",
   "pygments_lexer": "ipython3",
   "version": "3.9.7"
  }
 },
 "nbformat": 4,
 "nbformat_minor": 4
}
