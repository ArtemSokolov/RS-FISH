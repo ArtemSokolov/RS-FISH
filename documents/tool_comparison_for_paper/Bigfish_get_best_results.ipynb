{
 "cells": [
  {
   "cell_type": "markdown",
   "id": "2b165db0",
   "metadata": {},
   "source": [
    "This was run after bigfish_compare_results was run within the dir with all produced files `bigfish_diff_results_x.txt`"
   ]
  },
  {
   "cell_type": "code",
   "execution_count": null,
   "id": "d05ba268",
   "metadata": {},
   "outputs": [],
   "source": [
    "import pandas as pd\n",
    "\n",
    "n_files = 50\n",
    "\n",
    "diff_files = [f'bigfish_diff_results_{f}.txt' for f in range(n_files)]\n",
    "\n",
    "dfs = [pd.read_csv(f, header=None) for f in diff_files]\n",
    "\n",
    "df_best_with = pd.DataFrame()\n",
    "df_best_no = pd.DataFrame()\n",
    "\n",
    "for i,df in enumerate(dfs):\n",
    "    df[\"false_sum\"] = df[1] + df[2]\n",
    "\n",
    "    df_with = df[df[0].str.contains('with')]\n",
    "    idx = df_with[['false_sum']].idxmin()\n",
    "    df_best_with = df_best_with.append(df_with.loc[idx])\n",
    "\n",
    "    df_no = df[df[0].str.contains('no')]\n",
    "    idx = df_no[['false_sum']].idxmin()\n",
    "    df_best_no = df_best_no.append(df_no.loc[idx])\n",
    "\n",
    "df_best_with = df_best_with.reset_index(drop=True)\n",
    "df_best_no = df_best_no.reset_index(drop=True)\n",
    "\n",
    "df_best_with[\"name\"] = df_best_with[0].str.slice(start=92)\n",
    "df_best_with = df_best_with.drop([0], axis=1)\n",
    "\n",
    "df_best_no[\"name\"] = df_best_no[0].str.slice(start=92)\n",
    "df_best_no = df_best_no.drop([0], axis=1)\n",
    "\n",
    "df_best_with.to_csv('bf_ss_final_with.csv', index=False)\n",
    "df_best_no.to_csv('bf_ss_final_no.csv', index=False)\n"
   ]
  },
  {
   "cell_type": "code",
   "execution_count": null,
   "id": "01379980",
   "metadata": {},
   "outputs": [],
   "source": []
  }
 ],
 "metadata": {
  "kernelspec": {
   "display_name": "Python 3",
   "language": "python",
   "name": "python3"
  },
  "language_info": {
   "codemirror_mode": {
    "name": "ipython",
    "version": 3
   },
   "file_extension": ".py",
   "mimetype": "text/x-python",
   "name": "python",
   "nbconvert_exporter": "python",
   "pygments_lexer": "ipython3",
   "version": "3.7.10"
  }
 },
 "nbformat": 4,
 "nbformat_minor": 5
}
