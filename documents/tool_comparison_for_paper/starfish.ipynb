{
 "cells": [
  {
   "cell_type": "markdown",
   "id": "470ef920-1eac-40b0-bb15-f59a200caabd",
   "metadata": {},
   "source": [
    "### Installation\n",
    "\n",
    "In terminal:\n",
    "\n",
    "```  \n",
    "conda create -n starfish python=3.7  \n",
    "conda activate starfish  \n",
    "pip install starfish[napari]  \n",
    "```"
   ]
  },
  {
   "cell_type": "code",
   "execution_count": null,
   "id": "e52bb0bb-b6c5-4204-8b73-f4f130049929",
   "metadata": {},
   "outputs": [],
   "source": [
    "from starfish import data\n",
    "\n",
    "import tifffile as tif\n",
    "from glob import glob\n",
    "import os\n",
    "import pandas as pd\n",
    "\n",
    "import csv\n",
    "import os\n",
    "import numpy as np\n",
    "import shutil\n",
    "import skimage.io\n",
    "import tempfile\n",
    "import time\n",
    "import sys\n",
    "import numpy as np\n",
    "import copy\n",
    "from scipy import spatial\n",
    "\n",
    "from slicedimage import ImageFormat\n",
    "from starfish.experiment.builder import format_structured_dataset\n",
    "\n",
    "from starfish import Experiment\n",
    "from starfish.types import Axes\n",
    "\n",
    "# Decode spots with SimpleLookupDecoder\n",
    "from starfish.spots import DecodeSpots\n",
    "from starfish.spots import FindSpots\n"
   ]
  },
  {
   "cell_type": "code",
   "execution_count": null,
   "id": "fd498644-a6dc-4694-a692-e3dd271a7400",
   "metadata": {},
   "outputs": [],
   "source": [
    "## analysis type: '' (for the original analysis) OR 'adj_spots'\n",
    "analysis = '_adj_spots'\n",
    "analysis = ''"
   ]
  },
  {
   "cell_type": "markdown",
   "id": "c5ee7d22-4ecc-4b54-a3e8-a85e5db931da",
   "metadata": {},
   "source": [
    "### Set paths"
   ]
  },
  {
   "cell_type": "code",
   "execution_count": null,
   "id": "b22c0b94-e66b-4eae-9408-bbe66b080a17",
   "metadata": {},
   "outputs": [],
   "source": [
    "# For comparison of similar number of points as RSFISH found for each embryo, csv of data from RSFISH\n",
    "# Assuming that more points take longer to analyse\n",
    "\n",
    "#df_RSFISH_results_path = 'PATH_TO/RSFISH_embryos_npoints_and_times.csv'"
   ]
  },
  {
   "cell_type": "code",
   "execution_count": null,
   "id": "b9d204fb-a296-4bf8-bb89-249fa67c2609",
   "metadata": {},
   "outputs": [],
   "source": [
    "#results_embryos_df_path = 'PATH/TO/DESIRED/LOCATION/OF/EMBRYOS/RESULTS.csv'"
   ]
  },
  {
   "cell_type": "markdown",
   "id": "c227a345-111e-4f4e-86a0-492fb3e1fbad",
   "metadata": {},
   "source": [
    "### Set original images dir "
   ]
  },
  {
   "cell_type": "code",
   "execution_count": null,
   "id": "7198bb13-86c9-41ce-aa18-bb42f1b58f4f",
   "metadata": {},
   "outputs": [],
   "source": [
    "path = '/YOUR/PATH/HERE'"
   ]
  },
  {
   "cell_type": "code",
   "execution_count": null,
   "id": "8eea997c-121e-4d3c-bdf7-e249da1a7337",
   "metadata": {},
   "outputs": [],
   "source": [
    "org_ims_dir = os.path.join(path, 'ORG_IMS')\n",
    "org_ims_dir = os.path.join(path, f'simulations{analysis}')"
   ]
  },
  {
   "cell_type": "code",
   "execution_count": null,
   "id": "950f8d03-348a-4c9a-ac3c-66f182899888",
   "metadata": {},
   "outputs": [],
   "source": [
    "org_ims_paths = glob(os.path.join(org_ims_dir,'*','*.tif'))"
   ]
  },
  {
   "cell_type": "code",
   "execution_count": null,
   "id": "b167ff6c-a703-489c-96a4-55060a8c5017",
   "metadata": {},
   "outputs": [],
   "source": [
    "org_ims_paths[1:4]"
   ]
  },
  {
   "cell_type": "code",
   "execution_count": null,
   "id": "ef9374e7-27d5-4c99-bc9a-e03f0c8e79d2",
   "metadata": {},
   "outputs": [],
   "source": [
    "# Those images are used for accuracy analysis\n",
    "org_simul_ims_paths = [p for p in org_ims_paths \n",
    "                       if \"embryos_FISH\" not in p\n",
    "                      and \"3000spots\" not in p\n",
    "                      and os.path.exists(f'{p[:-4]}.loc')]\n",
    "\n",
    "## Those images are used for execution time analysis:\n",
    "org_embryo_ims_paths = [p for p in org_ims_paths if \"embryos_FISH\" in p]"
   ]
  },
  {
   "cell_type": "markdown",
   "id": "fdde33d4-08fa-4a37-bcf0-e50a940bcecb",
   "metadata": {},
   "source": [
    "### Create analysis dirs"
   ]
  },
  {
   "cell_type": "code",
   "execution_count": null,
   "id": "d51a14f2-a4ba-4a0a-a327-ec49b18bf89d",
   "metadata": {},
   "outputs": [],
   "source": [
    "sf_dir = os.path.join(path, 'starfish')\n",
    "os.makedirs(sf_dir, exist_ok=True)"
   ]
  },
  {
   "cell_type": "code",
   "execution_count": null,
   "id": "c9a63b73-5782-46b9-8cc0-6268b9ead87a",
   "metadata": {},
   "outputs": [],
   "source": [
    "sf_prep_ims_dir = os.path.join(sf_dir, f'prep_spacext_ims{analysis}')\n",
    "os.makedirs(sf_prep_ims_dir, exist_ok=True)"
   ]
  },
  {
   "cell_type": "code",
   "execution_count": null,
   "id": "4d3ce53d-9949-4de1-a075-1bc296be4342",
   "metadata": {},
   "outputs": [],
   "source": [
    "spacext_ims_dir = os.path.join(sf_dir, f'spacext_ims{analysis}')\n",
    "os.makedirs(spacext_ims_dir, exist_ok=True)"
   ]
  },
  {
   "cell_type": "code",
   "execution_count": null,
   "id": "146dd0e8-fe6b-4849-8ec4-a30119239ec1",
   "metadata": {},
   "outputs": [],
   "source": [
    "results_path_simul = os.path.join(sf_dir, f'results{analysis}')\n",
    "os.makedirs(results_path_simul, exist_ok=True)"
   ]
  },
  {
   "cell_type": "markdown",
   "id": "7128c24b-4a9e-4ddf-8ab4-35a8dd50a8bf",
   "metadata": {},
   "source": [
    "## Convert Image Data to SpaceTX Format "
   ]
  },
  {
   "cell_type": "code",
   "execution_count": null,
   "id": "aa97a1aa-43c3-4ac5-9b46-d5ca25046419",
   "metadata": {},
   "outputs": [],
   "source": [
    "for im_path in org_ims_paths: \n",
    "\n",
    "    im = tif.imread(im_path)\n",
    "    \n",
    "    # columns: r, ch, zplane\n",
    "    fovs = [\n",
    "        [\n",
    "            (0, 0, i) for i in range(im.shape[0])\n",
    "        ],\n",
    "    ]\n",
    "\n",
    "    im_dir = os.path.basename(os.path.dirname(im_path))\n",
    "    \n",
    "    # Time analysis done on the embryo dir:\n",
    "    if im_dir=='embryos_FISH':\n",
    "        zc_max = 358.0\n",
    "    # accuracy analysis done on simulated data\n",
    "    elif 'Sigxy' in im_dir:\n",
    "        str_xy = im_dir.split('Sigxy ')[1].split(' SigZ')[0]\n",
    "        str_xy = 1.0+float('0.'+str_xy.split('pt')[1]) if 'pt' in str_xy else int(str_xy)\n",
    "        str_z = int(im_dir.split('SigZ ')[1])\n",
    "        \n",
    "        zc_max = 256.0*(str_z/str_xy)\n",
    "    else:\n",
    "        str_xy = float(im_path.split('sxy')[1].split('_sz')[0])\n",
    "        str_z =  float(im_path.split('_sz')[1].split('/')[0])\n",
    "        \n",
    "        zc_max = 256.0*(str_z/str_xy)\n",
    "    \n",
    "    coordinates_of_fovs = [\n",
    "        {\n",
    "            'xc_min': 0.0,\n",
    "            'xc_max': 256.0,\n",
    "            'yc_min': 0.0,\n",
    "            'yc_max': 256.0,\n",
    "            'zc_min': 0.0,\n",
    "            'zc_max': zc_max,\n",
    "        },\n",
    "    ]\n",
    "\n",
    "    # create example image tiles that adhere to the structured data schema\n",
    "    primary_dir = os.path.join(sf_prep_ims_dir, os.path.basename(os.path.dirname(im_path)), os.path.basename(im_path)[:-4], \"primary_dir\")\n",
    "    os.makedirs(primary_dir, exist_ok=True)\n",
    "\n",
    "    for fov_id, fov in enumerate(fovs):\n",
    "        for round_label, ch_label, zplane_label in fov:\n",
    "            primary_path = os.path.join(\n",
    "                primary_dir, f\"primary-f{fov_id}-r{round_label}-c{ch_label}-z{zplane_label}.tiff\")\n",
    "            skimage.io.imsave(primary_path, im[zplane_label])\n",
    "\n",
    "    # write coordinates file for primary:\n",
    "    with open(os.path.join(primary_dir, \"coordinates.csv\"), \"w\") as fh:\n",
    "        csv_writer = csv.DictWriter(\n",
    "            fh,\n",
    "            [\n",
    "                'fov', 'round', 'ch', 'zplane',\n",
    "                'xc_min', 'yc_min', 'zc_min', 'xc_max', 'yc_max', 'zc_max',\n",
    "            ]\n",
    "        )\n",
    "        csv_writer.writeheader()\n",
    "        for fov_id, (fov_info, coordinate_of_fov) in enumerate(zip(fovs, coordinates_of_fovs)):\n",
    "            for round_label, ch_label, zplane_label in fov:\n",
    "                tile_coordinates = coordinate_of_fov.copy()\n",
    "                tile_coordinates.update({\n",
    "                    'fov': fov_id,\n",
    "                    'round': round_label,\n",
    "                    'ch': ch_label,\n",
    "                    'zplane': zplane_label,\n",
    "                })\n",
    "                csv_writer.writerow(tile_coordinates)\n",
    "                \n",
    "                \n",
    "                \n",
    "    primary_out = os.path.join(spacext_ims_dir, os.path.basename(os.path.dirname(im_path)), os.path.basename(im_path)[:-4], \"primary\")\n",
    "    os.makedirs(primary_out, exist_ok=True)\n",
    "\n",
    "    format_structured_dataset(\n",
    "        primary_dir,\n",
    "        os.path.join(primary_dir, \"coordinates.csv\"),\n",
    "        primary_out,\n",
    "        ImageFormat.TIFF,\n",
    "    )"
   ]
  },
  {
   "cell_type": "markdown",
   "id": "45d06378-4440-4a76-aa07-1d72885d8353",
   "metadata": {},
   "source": [
    "## Finding Spots "
   ]
  },
  {
   "cell_type": "markdown",
   "id": "44063fd9-bad0-45e3-bf5b-d364addbf255",
   "metadata": {},
   "source": [
    "#### Define spot finding function\n",
    "\n",
    "We use blob_detector, but stardist has many options\n"
   ]
  },
  {
   "cell_type": "code",
   "execution_count": null,
   "id": "d7543392-bc24-48be-b45d-0ef2e74e8242",
   "metadata": {},
   "outputs": [],
   "source": [
    "def find_spots(imgs, min_sigma, max_sigma, num_sigma, threshold):\n",
    "\n",
    "    p = FindSpots.BlobDetector(\n",
    "        min_sigma=min_sigma,\n",
    "        max_sigma=max_sigma,\n",
    "        num_sigma=num_sigma,\n",
    "        threshold=threshold,\n",
    "        measurement_type='mean', \n",
    "        exclude_border=False\n",
    "    )\n",
    "    \n",
    "    intensities = p.run(image_stack=imgs, n_processes=40)\n",
    "    return intensities"
   ]
  },
  {
   "cell_type": "markdown",
   "id": "6df2e5b5-50f1-4665-ac02-5f3bb016e781",
   "metadata": {},
   "source": [
    "### Simulated Data "
   ]
  },
  {
   "cell_type": "markdown",
   "id": "9912ad06-444f-4ba2-b7ca-3413b8ba1fd2",
   "metadata": {},
   "source": [
    "### Quick Grid Search\n",
    "on the parameters (sigma and threshold) to try to optimize blob detection on the simulated images"
   ]
  },
  {
   "cell_type": "code",
   "execution_count": null,
   "id": "0da1ae81-912b-4cb7-afcb-cba664bcb99c",
   "metadata": {},
   "outputs": [],
   "source": [
    "## Some of those more specific values were chosen after the first run.\n",
    "sigs = [2,4,5]\n",
    "thrs = [0.001, 0.002, 0.0001, 0.000145, 0.000033, 0.0000404, 0.0000412, 0.000042, 0.0000428, 0.000043, 0.0000439, 0.000044, 0.000045, 0.000046, \n",
    "        0.000047, 0.000048, 0.0000483, 0.000049, 0.00005, 0.000065125, 0.000074, 0.000075, 0.000076, 0.000077, \n",
    "        0.000078, 0.000079, 0.00008, 0.0000805, 0.00009, 0.000095]\n",
    "\n",
    "for i,im_path in enumerate(org_simul_ims_paths):\n",
    "    \n",
    "    if i>230:\n",
    "\n",
    "        im_dir = os.path.basename(os.path.dirname(im_path))\n",
    "        im_name = os.path.basename(im_path[:-4])\n",
    "\n",
    "        # load image:\n",
    "        experiment = Experiment.from_json(os.path.join(\n",
    "        spacext_ims_dir, im_dir, im_name, 'primary', 'experiment.json'))\n",
    "\n",
    "        imgs = experiment.fov().get_image('primary')\n",
    "\n",
    "        # Find spots:\n",
    "        print(im_path, i)\n",
    "\n",
    "        for sig in sigs:\n",
    "\n",
    "            for thr in thrs:\n",
    "\n",
    "                start = time.time()\n",
    "\n",
    "                spotss = find_spots(imgs, 0, sig, sig, thr)\n",
    "\n",
    "                if analysis==\"\":\n",
    "                    gt_n_spots = int(im_name.split('Poiss_')[1].split('spots')[0])\n",
    "                else:\n",
    "                    gt_n_spots = 30\n",
    "\n",
    "                if abs( gt_n_spots - spotss.count_total_spots() ) == 0:\n",
    "                    flag =True\n",
    "\n",
    "                diff_nspots = abs(gt_n_spots - spotss.count_total_spots())\n",
    "\n",
    "                #print(f'gt_nspots - nspots = {diff_nspots}')\n",
    "\n",
    "                if diff_nspots < 25:\n",
    "\n",
    "                    # Decode:\n",
    "                    decoder = DecodeSpots.SimpleLookupDecoder(codebook=experiment.codebook)\n",
    "                    decoded_intensities = decoder.run(spots=spotss)\n",
    "\n",
    "                    exe_time = time.time() - start\n",
    "                    exe_time = f'{exe_time:.3g}'\n",
    "\n",
    "                    filename = f'{im_dir}__{im_name}__sig{sig}_thr{thr}__exetime{exe_time}.csv'\n",
    "\n",
    "                    decoded_intensities.to_dataframe(\"results\")[[\"x\",\"y\",\"z\"]].reset_index(drop=True).to_csv(\n",
    "                    os.path.join(results_path_simul,filename))\n"
   ]
  }
 ],
 "metadata": {
  "kernelspec": {
   "display_name": "Python 3 (ipykernel)",
   "language": "python",
   "name": "python3"
  },
  "language_info": {
   "codemirror_mode": {
    "name": "ipython",
    "version": 3
   },
   "file_extension": ".py",
   "mimetype": "text/x-python",
   "name": "python",
   "nbconvert_exporter": "python",
   "pygments_lexer": "ipython3",
   "version": "3.9.7"
  }
 },
 "nbformat": 4,
 "nbformat_minor": 5
}
