{
 "cells": [
  {
   "cell_type": "markdown",
   "id": "8eb22a05",
   "metadata": {},
   "source": [
    "Requirements: \n",
    "* Matlab \n",
    "* Matlab's Image Processing Toolbox\n",
    "* Matlab's Optimization Toolbox\n",
    "\n",
    "Clone Airlocalize from its github repo:  \n",
    "In terminal (in your selected dir), type:\n",
    "\n",
    "``` \n",
    "git clone git@github.com:timotheelionnet/AIRLOCALIZE.git\n",
    "```"
   ]
  },
  {
   "cell_type": "code",
   "execution_count": 1,
   "id": "b6c47db4",
   "metadata": {},
   "outputs": [],
   "source": [
    "from glob import glob\n",
    "import os"
   ]
  },
  {
   "cell_type": "code",
   "execution_count": 3,
   "id": "861abb89",
   "metadata": {},
   "outputs": [],
   "source": [
    "import sys\n",
    "import os\n",
    "import numpy as np\n",
    "import csv\n",
    "import copy\n",
    "from scipy import spatial\n",
    "\n",
    "import pandas as pd"
   ]
  },
  {
   "cell_type": "markdown",
   "id": "bf27a990",
   "metadata": {},
   "source": [
    "## Define dirs"
   ]
  },
  {
   "cell_type": "code",
   "execution_count": 2,
   "id": "4a4b13b4",
   "metadata": {},
   "outputs": [],
   "source": [
    "input_dir = 'PATH/TO/IMAGES'\n",
    "input_dir_embryos = 'PATH/TO/IMAGES1'"
   ]
  },
  {
   "cell_type": "code",
   "execution_count": null,
   "id": "b08b145d",
   "metadata": {},
   "outputs": [],
   "source": [
    "# dir where airlocalize\n",
    "air_dir = 'PATH/TO/DIR/AIRLOCALIZE'"
   ]
  },
  {
   "cell_type": "code",
   "execution_count": null,
   "id": "40956e7f",
   "metadata": {},
   "outputs": [],
   "source": [
    "# User choice\n",
    "analysis_path = 'PATH/TO/SET'"
   ]
  },
  {
   "cell_type": "markdown",
   "id": "4787e7c7",
   "metadata": {},
   "source": [
    "## Simulated Images\n",
    "for accuracy comparison"
   ]
  },
  {
   "cell_type": "markdown",
   "id": "728c355f",
   "metadata": {},
   "source": [
    "### Setup config files\n",
    "for the grid search"
   ]
  },
  {
   "cell_type": "code",
   "execution_count": null,
   "id": "48d550cb",
   "metadata": {},
   "outputs": [],
   "source": [
    "## Assuming that the structure is like the \"Selected_simulation\" dir, where images are in sub dirs\n",
    "input_dirs = glob(os.path.join(input_dir, '*'))"
   ]
  },
  {
   "cell_type": "markdown",
   "id": "fb1985cd",
   "metadata": {},
   "source": [
    "#### Read example config file"
   ]
  },
  {
   "cell_type": "code",
   "execution_count": null,
   "id": "5dbbc7cd",
   "metadata": {},
   "outputs": [],
   "source": [
    "org_conf_file = open(os.path.join(air_dir, 'examples/3DsmFISH_humCells.ini'), 'r')\n",
    "lines = org_conf_file.readlines()\n",
    "org_conf_file.close()"
   ]
  },
  {
   "cell_type": "markdown",
   "id": "f0a41734",
   "metadata": {},
   "source": [
    "#### Get lines to change"
   ]
  },
  {
   "cell_type": "code",
   "execution_count": null,
   "id": "9a6b93ba",
   "metadata": {},
   "outputs": [],
   "source": [
    "lines[2], lines[5], lines[13], lines[18], lines[23], lines[37], lines[48], lines[51], lines[75], lines[101]"
   ]
  },
  {
   "cell_type": "code",
   "execution_count": null,
   "id": "94082810",
   "metadata": {},
   "outputs": [],
   "source": [
    "d = {   ### constant:\n",
    "    \"fileProcessingMode\": 13,\n",
    "    \"inclusionString\": 18,\n",
    "    \"exclusionString\": 23,\n",
    "    \"maxSpots\": 51,\n",
    "    \"outputSpotsImage\": 75,\n",
    "    ## dirs:\n",
    "    \"dataFileName\": 2,\n",
    "    \"saveDirName\": 5,\n",
    "    \"psfSigma\": 37,\n",
    "    ## grid search\n",
    "    \"threshLevel\": 48,\n",
    "    \"minDistBetweenSpots\": 101} "
   ]
  },
  {
   "cell_type": "code",
   "execution_count": null,
   "id": "c7f732e9",
   "metadata": {},
   "outputs": [],
   "source": [
    "# Set constant line values\n",
    "\n",
    "lines[d[\"fileProcessingMode\"]] = 'fileProcessingMode=batch\\n'\n",
    "lines[d[\"inclusionString\"]] = 'inclusionString=.tif\\n'\n",
    "lines[d[\"exclusionString\"]] = 'exclusionString=3000spots\\n'\n",
    "lines[d[\"maxSpots\"]] = 'maxSpots=400\\n'\n",
    "lines[d[\"outputSpotsImage\"]] = 'outputSpotsImage=0\\n'"
   ]
  },
  {
   "cell_type": "code",
   "execution_count": null,
   "id": "ad0d2bee",
   "metadata": {},
   "outputs": [],
   "source": [
    "# Values to set grid search:\n",
    "\n",
    "thrs = [4,5,6,7,8,9,10,11,12,13]\n",
    "dists = [1,2,3]"
   ]
  },
  {
   "cell_type": "code",
   "execution_count": null,
   "id": "cff864e7",
   "metadata": {},
   "outputs": [],
   "source": [
    "conf_path_simul = 'config_files_simulated'\n",
    "os.makedirs(os.path.join(analysis_path, conf_path_simul))"
   ]
  },
  {
   "cell_type": "code",
   "execution_count": null,
   "id": "2b947f69",
   "metadata": {},
   "outputs": [],
   "source": [
    "results_path_simul = 'results_simulated'\n",
    "os.makedirs(os.path.join(analysis_path, results_path_simul))"
   ]
  },
  {
   "cell_type": "markdown",
   "id": "794df91a",
   "metadata": {},
   "source": [
    "#### create files"
   ]
  },
  {
   "cell_type": "code",
   "execution_count": null,
   "id": "f40d9ff8",
   "metadata": {},
   "outputs": [],
   "source": [
    "for i,p in enumerate(input_dirs):\n",
    "\n",
    "    lines[d[\"dataFileName\"]] = f'dataFileName={p}\\n'\n",
    "        \n",
    "    sig_xy = p.split('Sigxy ')[1].split(' SigZ')[0]\n",
    "    sig_xy = sig_xy.replace('pt','.') if len(sig_xy)>1 else sig_xy\n",
    "    \n",
    "    sig_z = p.split('SigZ ')[1]\n",
    "    \n",
    "    lines[d[\"psfSigma\"]] = f'psfSigma={sig_xy},{sig_z}\\n'\n",
    "    \n",
    "    for thr in thrs:\n",
    "        for dist in dists:\n",
    "            \n",
    "            lines[d[\"saveDirName\"]] = f'saveDirName={results_path_simul}/{os.path.basename(p)}/{thr}_{dist}\\n'\n",
    "\n",
    "            lines[d[\"threshLevel\"]] = f'threshLevel={thr}\\n'\n",
    "            lines[d[\"minDistBetweenSpots\"]] = f'minDistBetweenSpots={dist}\\n'\n",
    "            \n",
    "            out_file = open(os.path.join(conf_path,f'{i}_{thr}_{dist}.ini'), \"w\")\n",
    "            out_file.writelines(lines)\n",
    "            out_file.close()"
   ]
  },
  {
   "cell_type": "markdown",
   "id": "f43e1458",
   "metadata": {},
   "source": [
    "### Run on Matlab:"
   ]
  },
  {
   "cell_type": "markdown",
   "id": "3ba849f6",
   "metadata": {},
   "source": [
    "run matlab (can also run `matlab --nodesktop`) from the config file directory.  \n",
    "in matlab :  \n",
    "\n",
    "```\n",
    "addpath(genpath(PATH/TO/AIRLOCALIZE));\n",
    "\n",
    "conf_files = dir;\n",
    "\n",
    "files = strings;\n",
    "\n",
    "for c = 3:size(conf_files)\n",
    "    nam = conf_files(c).name\n",
    "    startt = tic\n",
    "    AIRLOCALIZE(nam);\n",
    "    files(c-2) = nam;\n",
    "    times(c-2) = toc(startt);\n",
    "end\n",
    "\n",
    "T = table(files, times);\n",
    "writetable(T,'timetable.txt');\n"
   ]
  },
  {
   "cell_type": "markdown",
   "id": "50f9f2f4",
   "metadata": {},
   "source": [
    "### Analyze Results"
   ]
  },
  {
   "cell_type": "code",
   "execution_count": null,
   "id": "214194e2",
   "metadata": {},
   "outputs": [],
   "source": [
    "# Leo's code:\n",
    "\n",
    "# This function compares two arrays:\n",
    "# Unmod = ground truth array\n",
    "# More_than = detections from one of the programs\n",
    "\n",
    "#Function checks if points in More_than are close/match points in GT array (under certain distance)\n",
    "\n",
    "#Returns: \n",
    "# # of undetected ground truth points\n",
    "# # spurious detections\n",
    "# and average distance between detection and associated points\n",
    "\n",
    "def profile_detections(unmod, more_than):\n",
    "\n",
    "    min_dist = 2\n",
    "\n",
    "    distance_arr = []\n",
    "\n",
    "    removedItems = True\n",
    "    euc_dist = 0\n",
    "\n",
    "    while (removedItems and len(more_than) != 0 and len(unmod) != 0 ):\n",
    "        #print(\"loop\")\n",
    "\n",
    "        minDist = 10000\n",
    "        minIndexUnmod = -1\n",
    "        minIndexMore_Than = -1\n",
    "        counter = 0\n",
    "        kd_copy = copy.deepcopy(more_than)\n",
    "        kdtree = spatial.KDTree(kd_copy)\n",
    "\n",
    "        for item in unmod:\n",
    "            distance,index = kdtree.query(item) # a new KD tree is made\n",
    "            if ( distance < minDist ):\n",
    "                minDist = distance\n",
    "                minIndexUnmod = counter\n",
    "                minIndexMore_Than = index\n",
    "                #print(minDist, counter, item)\n",
    "            counter = counter + 1\n",
    "\n",
    "        if ( minDist < min_dist): # if less than min dist\n",
    "            more_than = np.delete(more_than, minIndexMore_Than, axis = 0 ) # delete mod ind\n",
    "            unmod = np.delete(unmod,minIndexUnmod, axis = 0) #delete unmod ind\n",
    "            #print(len(more_than),distance) # sanity checkd\n",
    "            removedItems = True\n",
    "            distance_arr.append(minDist) # if we want to extrat stat ig\n",
    "\n",
    "        else:\n",
    "            removedItems = False\n",
    "    if (len(distance_arr) >0):\n",
    "        euc_dist = np.mean(np.asarray(distance_arr))\n",
    "        \n",
    "    return(len(unmod), len(more_than), euc_dist)"
   ]
  },
  {
   "cell_type": "code",
   "execution_count": null,
   "id": "f59248a3",
   "metadata": {},
   "outputs": [],
   "source": [
    "all_results_paths = glob(os.path.join(results_path_simul,\"*\",\"*\",\"*.loc4\"))"
   ]
  },
  {
   "cell_type": "code",
   "execution_count": null,
   "id": "6504d8e5",
   "metadata": {},
   "outputs": [],
   "source": [
    "# Get images in the format of \"orgdir/orgname\"\n",
    "all_results_names = [\"/\".join([p for idx,p in enumerate(r.split('/')) if idx in [1,3]]) for r in all_results]"
   ]
  },
  {
   "cell_type": "code",
   "execution_count": null,
   "id": "c848127e",
   "metadata": {},
   "outputs": [],
   "source": [
    "unique_names = list(set(all_results_names))"
   ]
  },
  {
   "cell_type": "code",
   "execution_count": null,
   "id": "68a716ef",
   "metadata": {},
   "outputs": [],
   "source": [
    "len(unique_names), len(all_results_names)"
   ]
  },
  {
   "cell_type": "code",
   "execution_count": null,
   "id": "19e6eed2",
   "metadata": {},
   "outputs": [],
   "source": [
    "result_files_sorted = []\n",
    "\n",
    "for n in unique_names:\n",
    "\n",
    "    name_results = [all_results[i] for i,x in enumerate(all_results_names) if x == n]\n",
    "    result_files_sorted.append(name_results)"
   ]
  },
  {
   "cell_type": "markdown",
   "id": "94a1029c",
   "metadata": {},
   "source": [
    "#### Run comparison to GT"
   ]
  },
  {
   "cell_type": "code",
   "execution_count": null,
   "id": "de07a575",
   "metadata": {},
   "outputs": [],
   "source": [
    "best_results_files = []\n",
    "best_results = []\n",
    "\n",
    "\n",
    "for files in result_files_sorted:\n",
    "    \n",
    "    exmpl_file = files[0].split('/')\n",
    "    \n",
    "    gt_path = os.path.join(input_dir, exmpl_file[1], exmpl_file[3][:-1])\n",
    "    \n",
    "    if not os.path.exists(gt_path):\n",
    "        print('not found', gt_path)\n",
    "        continue\n",
    "\n",
    "    gt_spots = pd.read_csv(gt_path, sep = \"\\s+\", header=None)\n",
    "    gt_spots = gt_spots.to_numpy()[:,:-1] - np.array([0.5,0.5,1])\n",
    "    \n",
    "    print(files[0])\n",
    "    \n",
    "    best = False\n",
    "    \n",
    "    for r_f in files:\n",
    "        \n",
    "        df = pd.read_csv(r_f, sep=\"\\t\")\n",
    "        \n",
    "        detected_spots = df[[\"x_in_pix\",\"y_in_pix\",\"z_in_pix\"]].to_numpy()\n",
    "        detected_spots = detected_spots-[0.5,0.5,1]\n",
    "\n",
    "        diff_results = list(profile_detections(gt_spots, detected_spots))\n",
    "        \n",
    "        # format diff results as [nspots(GT), FN, FP, euc_dist]\n",
    "        n_spots = int(gt_path.split(\"spots\")[0].split(\"_\")[-1])\n",
    "        diff_results.insert(0, n_spots)\n",
    "        \n",
    "        if diff_results[1]==0 and diff_results[2]==0:\n",
    "            \n",
    "            best = diff_results\n",
    "            best_file = r_f\n",
    "            break\n",
    "        \n",
    "        elif not best or (best[1]+best[2])>(diff_results[1]+diff_results[2]):\n",
    "            best = diff_results\n",
    "            best_file = r_f\n",
    "    \n",
    "    best_results.append(best)\n",
    "    best_results_files.append(best_file)\n",
    "        "
   ]
  },
  {
   "cell_type": "code",
   "execution_count": null,
   "id": "7dcb46c5",
   "metadata": {},
   "outputs": [],
   "source": [
    "zipped = list(zip(best_results_files, best_results))"
   ]
  },
  {
   "cell_type": "code",
   "execution_count": null,
   "id": "c6826f2f",
   "metadata": {},
   "outputs": [],
   "source": [
    "with open(os.path.join(analysis_path, 'airlocalize_results_simul.txt', 'w') as f:\n",
    "    for r in best_results:\n",
    "        if isinstance(r,list):\n",
    "            f.write(\",\".join(str(it) for it in r) + '\\n')"
   ]
  },
  {
   "cell_type": "code",
   "execution_count": null,
   "id": "49860b51",
   "metadata": {},
   "outputs": [],
   "source": [
    "with open(os.path.join(analysis_path, 'airlocalize_result_simul_best_files.txt', 'w') as f:\n",
    "    for fi in best_results_files:\n",
    "        if isinstance(fi,str):\n",
    "            f.write(fi + '\\n')"
   ]
  },
  {
   "cell_type": "markdown",
   "id": "78e3b7d9",
   "metadata": {},
   "source": [
    "## Embryo images\n",
    "to analyse execution time"
   ]
  },
  {
   "cell_type": "code",
   "execution_count": null,
   "id": "1899b739",
   "metadata": {},
   "outputs": [],
   "source": [
    "input_files = glob(os.path.join(input_dir_embryos, \"*\"))"
   ]
  },
  {
   "cell_type": "markdown",
   "id": "25ed2d37",
   "metadata": {},
   "source": [
    "### Setup config files\n",
    "for the grid search"
   ]
  },
  {
   "cell_type": "markdown",
   "id": "94cb9332",
   "metadata": {},
   "source": [
    "#### Read example config file"
   ]
  },
  {
   "cell_type": "code",
   "execution_count": null,
   "id": "9633b231",
   "metadata": {},
   "outputs": [],
   "source": [
    "org_conf_file = open(os.path.join(air_dir, 'examples/3DsmFISH_humCells.ini'), 'r')\n",
    "lines = org_conf_file.readlines()\n",
    "org_conf_file.close() "
   ]
  },
  {
   "cell_type": "markdown",
   "id": "75986626",
   "metadata": {},
   "source": [
    "#### Get lines to change"
   ]
  },
  {
   "cell_type": "code",
   "execution_count": null,
   "id": "37dc132e",
   "metadata": {},
   "outputs": [],
   "source": [
    "d = {   ### constant:\n",
    "    \"fileProcessingMode\": 13,\n",
    "    \"inclusionString\": 18,\n",
    "    \"exclusionString\": 23,\n",
    "    \"maxSpots\": 51,\n",
    "    \"outputSpotsImage\": 75,\n",
    "    ## dirs:\n",
    "    \"dataFileName\": 2,\n",
    "    \"saveDirName\": 5,\n",
    "    \"psfSigma\": 37,\n",
    "    ## grid search\n",
    "    \"threshLevel\": 48,\n",
    "    \"minDistBetweenSpots\": 101} "
   ]
  },
  {
   "cell_type": "code",
   "execution_count": null,
   "id": "9dabdf33",
   "metadata": {},
   "outputs": [],
   "source": [
    "#lines[d[\"fileProcessingMode\"]] = 'fileProcessingMode=batch\\n'\n",
    "lines[d[\"inclusionString\"]] = 'inclusionString=.tif\\n'\n",
    "#lines[d[\"exclusionString\"]] = 'exclusionString=3000spots\\n'\n",
    "#lines[d[\"maxSpots\"]] = 'maxSpots=5000\\n'\n",
    "lines[d[\"outputSpotsImage\"]] = 'outputSpotsImage=0\\n'"
   ]
  },
  {
   "cell_type": "code",
   "execution_count": null,
   "id": "d3645376",
   "metadata": {},
   "outputs": [],
   "source": [
    "conf_path_embryos = 'config_files_embryos'\n",
    "os.makedirs(os.path.join(analysis_path, conf_path_embryos))"
   ]
  },
  {
   "cell_type": "code",
   "execution_count": null,
   "id": "3896f341",
   "metadata": {},
   "outputs": [],
   "source": [
    "results_path_embryos = 'results_simulated'\n",
    "os.makedirs(os.path.join(analysis_path, results_path_embryos))"
   ]
  },
  {
   "cell_type": "code",
   "execution_count": null,
   "id": "9158c529",
   "metadata": {},
   "outputs": [],
   "source": [
    "# Values to set grid search:\n",
    "\n",
    "thrs = [700, 750, 800, 850, 900, 950, 1000, 1050, 1100, 1150, 1200]\n",
    "dists = [1,2,3]"
   ]
  },
  {
   "cell_type": "markdown",
   "id": "939e68ce",
   "metadata": {},
   "source": [
    "### create files"
   ]
  },
  {
   "cell_type": "code",
   "execution_count": null,
   "id": "b0001a6b",
   "metadata": {},
   "outputs": [],
   "source": [
    "for i,p in enumerate(input_files):\n",
    "\n",
    "    lines[d[\"dataFileName\"]] = f'dataFileName={p}\\n'\n",
    "        \n",
    "#     sig_xy = p.split('Sigxy ')[1].split(' SigZ')[0]\n",
    "#     sig_xy = sig_xy.replace('pt','.') if len(sig_xy)>1 else sig_xy\n",
    "    \n",
    "#     sig_z = p.split('SigZ ')[1]\n",
    "    \n",
    "    sig_xy = 1\n",
    "    sig_z = 1.4\n",
    "    \n",
    "    str_f = os.path.basename(p)[:-4]\n",
    "    \n",
    "    lines[d[\"psfSigma\"]] = f'psfSigma={sig_xy},{sig_z}\\n'\n",
    "    \n",
    "    for thr in thrs_per_file[i]:\n",
    "        for dist in dists:\n",
    "            \n",
    "            lines[d[\"saveDirName\"]] = f'saveDirName={results_path_embryos}/{thr}_{dist}\\n'\n",
    "\n",
    "            lines[d[\"threshLevel\"]] = f'threshLevel={thr}\\n'\n",
    "            lines[d[\"minDistBetweenSpots\"]] = f'minDistBetweenSpots={dist}\\n'\n",
    "            \n",
    "            out_file = open(os.path.join(conf_path,f'{str_f}_{thr}_{dist}.ini'), \"w\")\n",
    "            out_file.writelines(lines)\n",
    "            out_file.close()"
   ]
  },
  {
   "cell_type": "markdown",
   "id": "06ce3678",
   "metadata": {},
   "source": [
    "### Run on Matlab\n",
    "the same way as written above for simulated dat"
   ]
  },
  {
   "cell_type": "markdown",
   "id": "b322e158",
   "metadata": {},
   "source": [
    "### Analyse Results"
   ]
  },
  {
   "cell_type": "code",
   "execution_count": null,
   "id": "cac700b9",
   "metadata": {},
   "outputs": [],
   "source": [
    "all_results_paths = glob(os.path.join(results_path_embryos,\"*\",\"*\",\"*.loc4\"))"
   ]
  },
  {
   "cell_type": "code",
   "execution_count": null,
   "id": "7f43b611",
   "metadata": {},
   "outputs": [],
   "source": [
    "# For comparison of similar number of points as RSFISH found for each embryo, load the data from RSFISH\n",
    "# Assuming that more points take longer to analyse\n",
    "\n",
    "df_rs = pd.read_csv('PATH_TO/RSFISH_embryos_npoints_and_times.csv')"
   ]
  },
  {
   "cell_type": "code",
   "execution_count": null,
   "id": "7479eaf9",
   "metadata": {},
   "outputs": [],
   "source": [
    "names = df_rs.name.values"
   ]
  },
  {
   "cell_type": "code",
   "execution_count": null,
   "id": "34507b09",
   "metadata": {},
   "outputs": [],
   "source": [
    "lowest_files = []\n",
    "\n",
    "for i,n in enumerate(names):\n",
    "    gt_nspots = df_rs.at[i,\"n_spots\"]\n",
    "    \n",
    "    files = [r for r in all_results_paths if n in r]\n",
    "#     print(len(files))\n",
    "\n",
    "    lowest_abs = 100000\n",
    "    \n",
    "    for ff in files:\n",
    "        df1 = pd.read_csv(ff)\n",
    "        nspots_air = df1.shape[0]\n",
    "        if nspots_air==0:\n",
    "            os.remove(ff)\n",
    "        else:\n",
    "            abs_spots = abs(nspots_air - gt_nspots)\n",
    "            #print(ff.split(\"/\")[1], nspots_air, abs_spots)\n",
    "            if abs_spots < lowest_abs:\n",
    "                lowest_abs = abs_spots\n",
    "                lowest_file = ff\n",
    "        \n",
    "    lowest_files.append(lowest_file)\n"
   ]
  },
  {
   "cell_type": "markdown",
   "id": "2e822faf",
   "metadata": {},
   "source": [
    "#### Get times"
   ]
  },
  {
   "cell_type": "code",
   "execution_count": null,
   "id": "7dedd9ec",
   "metadata": {},
   "outputs": [],
   "source": [
    "time_file = [os.path.join(conf_path_embryos,'timetable.txt') for d in dirs]"
   ]
  },
  {
   "cell_type": "code",
   "execution_count": null,
   "id": "7a8de121",
   "metadata": {},
   "outputs": [],
   "source": [
    "df = pd.read_csv(time_file)\n",
    "\n",
    "df_time = df[df.index.str.contains(\"files\")]\n",
    "df_time[\"times\"] = df[df.index.str.contains(\"times\")][0].values\n",
    "\n",
    "df_times = df_times.reset_index()"
   ]
  },
  {
   "cell_type": "code",
   "execution_count": null,
   "id": "88fb1784",
   "metadata": {},
   "outputs": [],
   "source": [
    "df = pd.DataFrame()\n",
    "\n",
    "for i,f in enumerate(lowest_files):\n",
    "    \n",
    "    fn = f.split('/')[-1][:-5] + \"_\" + f.split('/')[1] + '.ini'\n",
    "    \n",
    "    df.at[i,\"time\"] = df_times[df_times[0]==fn][\"times\"].values[0]\n",
    "    df.at[i,\"name\"] = \"_\".join((df_times[df_times[0]==fn][0].values[0]).split('_')[:-2])\n",
    "    \n",
    "    n_spots = pd.read_csv(f).shape[0]\n",
    "    df.at[i,\"n_spots\"] = int(n_spots)\n",
    "    "
   ]
  },
  {
   "cell_type": "code",
   "execution_count": null,
   "id": "e9994e45",
   "metadata": {},
   "outputs": [],
   "source": [
    "df.to_csv(os.path.join(analysis_path, 'airlocalize_embryos_time.csv', index=False)"
   ]
  }
 ],
 "metadata": {
  "kernelspec": {
   "display_name": "Python 3",
   "language": "python",
   "name": "python3"
  },
  "language_info": {
   "codemirror_mode": {
    "name": "ipython",
    "version": 3
   },
   "file_extension": ".py",
   "mimetype": "text/x-python",
   "name": "python",
   "nbconvert_exporter": "python",
   "pygments_lexer": "ipython3",
   "version": "3.7.10"
  }
 },
 "nbformat": 4,
 "nbformat_minor": 5
}
