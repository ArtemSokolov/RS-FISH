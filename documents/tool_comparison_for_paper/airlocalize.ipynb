{
 "cells": [
  {
   "cell_type": "markdown",
   "id": "9fc5cd43",
   "metadata": {},
   "source": [
    "Requirements:\n",
    "\n",
    "    Matlab\n",
    "    Matlab's Image Processing Toolbox\n",
    "    Matlab's Optimization Toolbox\n",
    "\n",
    "Clone Airlocalize from its github repo:  \n",
    "EITHER: in terminal (in your selected dir), type:  \n",
    "`git clone git@github.com:timotheelionnet/AIRLOCALIZE.git`  \n",
    "OR: Follow like its done in this notebook and clone it into the analysis dir."
   ]
  },
  {
   "cell_type": "code",
   "execution_count": null,
   "id": "faf48400",
   "metadata": {},
   "outputs": [],
   "source": [
    "from glob import glob\n",
    "import os\n",
    "\n",
    "import sys\n",
    "import os\n",
    "import numpy as np\n",
    "import csv\n",
    "import copy\n",
    "from scipy import spatial\n",
    "\n",
    "import pandas as pd\n"
   ]
  },
  {
   "cell_type": "code",
   "execution_count": null,
   "id": "4dd65d42",
   "metadata": {},
   "outputs": [],
   "source": [
    "## analysis type: '' (for the original analysis) OR 'adj_spots'\n",
    "analysis = '_adj_spots'\n",
    "analysis = ''"
   ]
  },
  {
   "cell_type": "markdown",
   "id": "c36d8d9a",
   "metadata": {},
   "source": [
    "### Define Dirs"
   ]
  },
  {
   "cell_type": "code",
   "execution_count": null,
   "id": "2d09bee4",
   "metadata": {},
   "outputs": [],
   "source": [
    "path = '/YOUR/PATH/'\n",
    "org_ims_dir = os.path.join(path, f'simulations{analysis}')\n",
    "al_dir = os.path.join(path, 'airlocalize')\n",
    "os.makedirs(al_dir, exist_ok=True)"
   ]
  },
  {
   "cell_type": "code",
   "execution_count": null,
   "id": "c40ecb43",
   "metadata": {},
   "outputs": [],
   "source": [
    "org_ims_dir"
   ]
  },
  {
   "cell_type": "code",
   "execution_count": null,
   "id": "b90ddf9c",
   "metadata": {},
   "outputs": [],
   "source": [
    "org_ims_dirs = glob(os.path.join(org_ims_dir, '*'))"
   ]
  },
  {
   "cell_type": "markdown",
   "id": "297bbddb",
   "metadata": {},
   "source": [
    "### Clone Airlocalize Repo "
   ]
  },
  {
   "cell_type": "code",
   "execution_count": null,
   "id": "e22846f4",
   "metadata": {},
   "outputs": [],
   "source": [
    "wd = os.getcwd()\n",
    "print(wd)\n",
    "os.chdir(al_dir)\n",
    "print(os.getcwd())"
   ]
  },
  {
   "cell_type": "code",
   "execution_count": null,
   "id": "9d23d547",
   "metadata": {},
   "outputs": [],
   "source": [
    "!git clone git@github.com:timotheelionnet/AIRLOCALIZE.git "
   ]
  },
  {
   "cell_type": "code",
   "execution_count": null,
   "id": "8cbb6606",
   "metadata": {},
   "outputs": [],
   "source": [
    "os.chdir(wd)\n",
    "print(os.getcwd())"
   ]
  },
  {
   "cell_type": "markdown",
   "id": "322aa781",
   "metadata": {},
   "source": [
    "### Read example config file"
   ]
  },
  {
   "cell_type": "code",
   "execution_count": null,
   "id": "16f0664d",
   "metadata": {},
   "outputs": [],
   "source": [
    "org_conf_file = open(os.path.join(al_dir, 'AIRLOCALIZE', 'examples/3DsmFISH_humCells.ini'), 'r')\n",
    "lines = org_conf_file.readlines()\n",
    "org_conf_file.close()"
   ]
  },
  {
   "cell_type": "markdown",
   "id": "cc10107d",
   "metadata": {},
   "source": [
    "### Get lines to change"
   ]
  },
  {
   "cell_type": "code",
   "execution_count": null,
   "id": "abc32fe6",
   "metadata": {},
   "outputs": [],
   "source": [
    "lines[2], lines[5], lines[13], lines[18], lines[23], lines[37], lines[48], lines[51], lines[75], lines[101]"
   ]
  },
  {
   "cell_type": "code",
   "execution_count": null,
   "id": "f6e95ec6",
   "metadata": {},
   "outputs": [],
   "source": [
    "d = {   ### constant:\n",
    "    \"fileProcessingMode\": 13,\n",
    "    \"inclusionString\": 18,\n",
    "    \"exclusionString\": 23,\n",
    "    \"maxSpots\": 51,\n",
    "    \"outputSpotsImage\": 75,\n",
    "    ## dirs:\n",
    "    \"dataFileName\": 2,\n",
    "    \"saveDirName\": 5,\n",
    "    \"psfSigma\": 37,\n",
    "    ## grid search\n",
    "    \"threshLevel\": 48,\n",
    "    \"minDistBetweenSpots\": 101} "
   ]
  },
  {
   "cell_type": "code",
   "execution_count": null,
   "id": "5287b635",
   "metadata": {},
   "outputs": [],
   "source": [
    "# Set constant line values\n",
    "\n",
    "lines[d[\"fileProcessingMode\"]] = 'fileProcessingMode=batch\\n'\n",
    "lines[d[\"inclusionString\"]] = 'inclusionString=.tif\\n'\n",
    "lines[d[\"exclusionString\"]] = 'exclusionString=3000spots\\n'\n",
    "lines[d[\"maxSpots\"]] = 'maxSpots=400\\n'\n",
    "lines[d[\"outputSpotsImage\"]] = 'outputSpotsImage=0\\n'"
   ]
  },
  {
   "cell_type": "code",
   "execution_count": null,
   "id": "319f8751",
   "metadata": {},
   "outputs": [],
   "source": [
    "# Values to set grid search:\n",
    "\n",
    "thrs = [2,3,4,5,6,7,8,9,10,11,12,13]\n",
    "dists = [0.2,1,2,3]\n"
   ]
  },
  {
   "cell_type": "code",
   "execution_count": null,
   "id": "2bac00b0",
   "metadata": {},
   "outputs": [],
   "source": [
    "conf_path_simul = os.path.join(al_dir, f'config_files_simulated{analysis}')\n",
    "os.makedirs(conf_path_simul)"
   ]
  },
  {
   "cell_type": "code",
   "execution_count": null,
   "id": "81bc6a66",
   "metadata": {},
   "outputs": [],
   "source": [
    "results_path_simul = os.path.join(al_dir, f'results_simulated{analysis}')\n",
    "os.makedirs(results_path_simul)"
   ]
  },
  {
   "cell_type": "markdown",
   "id": "118f25ab",
   "metadata": {},
   "source": [
    "### Create Files"
   ]
  },
  {
   "cell_type": "code",
   "execution_count": null,
   "id": "51603fda",
   "metadata": {},
   "outputs": [],
   "source": [
    "\n",
    "for i,p in enumerate(org_ims_dirs):\n",
    "\n",
    "    lines[d[\"dataFileName\"]] = f'dataFileName={p}\\n'\n",
    "\n",
    "    # For origina analysis\n",
    "    if analysis == '':\n",
    "        sig_xy = p.split('Sigxy ')[1].split(' SigZ')[0]\n",
    "        sig_xy = sig_xy.replace('pt','.') if len(sig_xy)>1 else sig_xy\n",
    "        sig_z = p.split('SigZ ')[1]\n",
    "    # For adj spots analysis\n",
    "    else:\n",
    "        sig_xy = p.split('sxy')[1].split('_sz')[0]\n",
    "        sig_z =  p.split('_sz')[1].split('_')[0]\n",
    "\n",
    "    lines[d[\"psfSigma\"]] = f'psfSigma={sig_xy},{sig_z}\\n'\n",
    "\n",
    "    for thr in thrs:\n",
    "        for dist in dists:\n",
    "\n",
    "            lines[d[\"saveDirName\"]] = f'saveDirName={results_path_simul}/{os.path.basename(p)}/{thr}_{dist}\\n'\n",
    "\n",
    "            lines[d[\"threshLevel\"]] = f'threshLevel={thr}\\n'\n",
    "            lines[d[\"minDistBetweenSpots\"]] = f'minDistBetweenSpots={dist}\\n'\n",
    "\n",
    "            out_file = open(os.path.join(conf_path_simul,f'{os.path.basename(p)}__{thr}_{dist}.ini'), \"w\")\n",
    "            out_file.writelines(lines)\n",
    "            out_file.close()\n"
   ]
  },
  {
   "cell_type": "markdown",
   "id": "5eb6c235",
   "metadata": {
    "tags": []
   },
   "source": [
    "### Run on Matlab:\n",
    "\n",
    "run matlab (can also run matlab --nodesktop) from the config file directory.  \n",
    "in matlab :  \n",
    "\n",
    "``` \n",
    "addpath(genpath(PATH/TO/AIRLOCALIZE));\n",
    "\n",
    "conf_files = dir;\n",
    "\n",
    "files = strings;\n",
    "\n",
    "for c = 3:size(conf_files)   \n",
    "    nam = conf_files(c).name   \n",
    "    startt = tic    \n",
    "    AIRLOCALIZE(nam);   \n",
    "    files(c-2) = nam;    \n",
    "    times(c-2) = toc(startt);    \n",
    "end\n",
    "\n",
    "T = table(files, times);  \n",
    "writetable(T,'timetable.txt');\n",
    "```"
   ]
  },
  {
   "cell_type": "code",
   "execution_count": null,
   "id": "f66824bf",
   "metadata": {},
   "outputs": [],
   "source": []
  }
 ],
 "metadata": {
  "kernelspec": {
   "display_name": "Python 3 (ipykernel)",
   "language": "python",
   "name": "python3"
  },
  "language_info": {
   "codemirror_mode": {
    "name": "ipython",
    "version": 3
   },
   "file_extension": ".py",
   "mimetype": "text/x-python",
   "name": "python",
   "nbconvert_exporter": "python",
   "pygments_lexer": "ipython3",
   "version": "3.9.7"
  }
 },
 "nbformat": 4,
 "nbformat_minor": 5
}
